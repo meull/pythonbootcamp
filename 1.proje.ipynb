{
 "cells": [
  {
   "cell_type": "code",
   "execution_count": null,
   "id": "3f557682",
   "metadata": {},
   "outputs": [],
   "source": [
    "import sqlite3\n",
    "connect = sqlite3.connect(\"ogrenci.db\")\n",
    "sql = connect.cursor()\n",
    "sql.execute(\"CREATE TABLE IF NOT EXISTS ogrenci_bilgi (Ad TEXT, Soyad TEXT, Okul_no INT, Sinav_puan INT, Durum TEXT)\")\n",
    "sql.execute(\"CREATE TABLE IF NOT EXISTS ogrenci_gecti (Ad TEXT, Soyad TEXT, Okul_no INT, Sinav_puan INT, Durum TEXT)\")\n",
    "sql.execute(\"CREATE TABLE IF NOT EXISTS ogrenci_gecmedi (Ad TEXT, Soyad TEXT, Okul_no INT, Sinav_puan INT, Durum TEXT)\")\n",
    "connect.commit()\n",
    "while True:\n",
    "    try:\n",
    "        secenek=int(input('Öğrenci girişi yapmak için 1 tuşuna basın,çıkış için ise 2 tuşuna basın'))\n",
    "        if secenek==1:\n",
    "            print('###Öğrenci girişi yapılıyor...###')\n",
    "            ad=input('Öğrenci İsmi giriniz:')\n",
    "            soyad=input('Öğrenci soyismi giriniz:')\n",
    "            while True:\n",
    "                try:\n",
    "                    okul_no=int(input('Okul No giriniz:'))\n",
    "                    if okul_no<=0:\n",
    "                        okul_no=int(input('Okul No giriniz:'))\n",
    "                        continue\n",
    "                except:\n",
    "                     print('Okul numarası sayı olark girilmeli!')\n",
    "                else:\n",
    "                    break\n",
    "            while True:\n",
    "                try:\n",
    "                    sinav_puan=int(input('Sinav puani giriniz:'))\n",
    "                    if sinav_puan>100 or sinav_puan<0 :\n",
    "                        print('Sinav puan 0-100 arasinda olmalı!')  \n",
    "                        continue\n",
    "                except:\n",
    "                    print('Sinav puanı sayı olarak girilmeli!')\n",
    "                else:\n",
    "                    break \n",
    "                \n",
    "            print('###Öğrenci girişi bitti...###')\n",
    "            if sinav_puan>=60:\n",
    "                durum='Geçti'\n",
    "                sql.execute(\"INSERT INTO ogrenci_gecti VALUES (?,?,?,?,?)\",(ad.capitalize(),soyad.capitalize(),okul_no,sinav_puan,durum))\n",
    "                connect.commit()\n",
    "            else:\n",
    "                durum='Geçmedi'\n",
    "                sql.execute(\"INSERT INTO ogrenci_gecmedi VALUES (?,?,?,?,?)\",(ad.capitalize(),soyad.capitalize(),okul_no,sinav_puan,durum))\n",
    "                connect.commit()\n",
    "            sql.execute(\"INSERT INTO ogrenci_bilgi VALUES (?,?,?,?,?)\",(ad.capitalize() ,soyad.capitalize() ,okul_no,sinav_puan,durum))\n",
    "            connect.commit()\n",
    "        elif secenek==2:\n",
    "            print('###Bilgiler kaydedildi...###')\n",
    "            break\n",
    "    except:\n",
    "        print('Lütfen 1 ya da 2 tuşuna basın')"
   ]
  },
  {
   "cell_type": "code",
   "execution_count": null,
   "id": "9a1df53d",
   "metadata": {},
   "outputs": [],
   "source": [
    "from sqlite3 import connect\n",
    "conn = connect('ogrenci.db')\n",
    "import pandas as pd\n",
    "df = pd.read_sql(\"SELECT * FROM ogrenci_bilgi\",conn)\n",
    "df.to_excel(\"Öğrenci.xlsx\")  \n",
    "df = pd.read_sql(\"SELECT * FROM ogrenci_gecti\",conn)\n",
    "df.to_excel(\"Geçti.xlsx\")  \n",
    "df = pd.read_sql(\"SELECT * FROM ogrenci_gecmedi\",conn)\n",
    "df.to_excel(\"Geçmedi.xlsx\")  "
   ]
  }
 ],
 "metadata": {
  "kernelspec": {
   "display_name": "Python 3 (ipykernel)",
   "language": "python",
   "name": "python3"
  },
  "language_info": {
   "codemirror_mode": {
    "name": "ipython",
    "version": 3
   },
   "file_extension": ".py",
   "mimetype": "text/x-python",
   "name": "python",
   "nbconvert_exporter": "python",
   "pygments_lexer": "ipython3",
   "version": "3.9.7"
  }
 },
 "nbformat": 4,
 "nbformat_minor": 5
}
