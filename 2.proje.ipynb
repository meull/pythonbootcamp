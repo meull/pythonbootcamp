{
 "cells": [
  {
   "cell_type": "code",
   "execution_count": 115,
   "id": "48153ef7",
   "metadata": {},
   "outputs": [
    {
     "data": {
      "text/html": [
       "<div>\n",
       "<style scoped>\n",
       "    .dataframe tbody tr th:only-of-type {\n",
       "        vertical-align: middle;\n",
       "    }\n",
       "\n",
       "    .dataframe tbody tr th {\n",
       "        vertical-align: top;\n",
       "    }\n",
       "\n",
       "    .dataframe thead th {\n",
       "        text-align: right;\n",
       "    }\n",
       "</style>\n",
       "<table border=\"1\" class=\"dataframe\">\n",
       "  <thead>\n",
       "    <tr style=\"text-align: right;\">\n",
       "      <th></th>\n",
       "      <th>Title</th>\n",
       "      <th>Genre</th>\n",
       "      <th>Premiere</th>\n",
       "      <th>Runtime</th>\n",
       "      <th>IMDB Score</th>\n",
       "      <th>Language</th>\n",
       "    </tr>\n",
       "  </thead>\n",
       "  <tbody>\n",
       "    <tr>\n",
       "      <th>0</th>\n",
       "      <td>Enter the Anime</td>\n",
       "      <td>Documentary</td>\n",
       "      <td>August 5, 2019</td>\n",
       "      <td>58</td>\n",
       "      <td>2.5</td>\n",
       "      <td>English/Japanese</td>\n",
       "    </tr>\n",
       "    <tr>\n",
       "      <th>1</th>\n",
       "      <td>Dark Forces</td>\n",
       "      <td>Thriller</td>\n",
       "      <td>August 21, 2020</td>\n",
       "      <td>81</td>\n",
       "      <td>2.6</td>\n",
       "      <td>Spanish</td>\n",
       "    </tr>\n",
       "    <tr>\n",
       "      <th>2</th>\n",
       "      <td>The App</td>\n",
       "      <td>Science fiction/Drama</td>\n",
       "      <td>December 26, 2019</td>\n",
       "      <td>79</td>\n",
       "      <td>2.6</td>\n",
       "      <td>Italian</td>\n",
       "    </tr>\n",
       "    <tr>\n",
       "      <th>3</th>\n",
       "      <td>The Open House</td>\n",
       "      <td>Horror thriller</td>\n",
       "      <td>January 19, 2018</td>\n",
       "      <td>94</td>\n",
       "      <td>3.2</td>\n",
       "      <td>English</td>\n",
       "    </tr>\n",
       "    <tr>\n",
       "      <th>4</th>\n",
       "      <td>Kaali Khuhi</td>\n",
       "      <td>Mystery</td>\n",
       "      <td>October 30, 2020</td>\n",
       "      <td>90</td>\n",
       "      <td>3.4</td>\n",
       "      <td>Hindi</td>\n",
       "    </tr>\n",
       "  </tbody>\n",
       "</table>\n",
       "</div>"
      ],
      "text/plain": [
       "             Title                  Genre           Premiere  Runtime  \\\n",
       "0  Enter the Anime            Documentary     August 5, 2019       58   \n",
       "1      Dark Forces               Thriller    August 21, 2020       81   \n",
       "2          The App  Science fiction/Drama  December 26, 2019       79   \n",
       "3   The Open House        Horror thriller   January 19, 2018       94   \n",
       "4      Kaali Khuhi                Mystery   October 30, 2020       90   \n",
       "\n",
       "   IMDB Score          Language  \n",
       "0         2.5  English/Japanese  \n",
       "1         2.6           Spanish  \n",
       "2         2.6           Italian  \n",
       "3         3.2           English  \n",
       "4         3.4             Hindi  "
      ]
     },
     "execution_count": 115,
     "metadata": {},
     "output_type": "execute_result"
    }
   ],
   "source": [
    "import pandas as pd\n",
    "df=pd.read_csv('NetflixOriginals.csv',encoding=\"ISO-8859-1\")\n",
    "df.head(5)"
   ]
  },
  {
   "cell_type": "code",
   "execution_count": 116,
   "id": "f054515b",
   "metadata": {},
   "outputs": [
    {
     "data": {
      "text/html": [
       "<div>\n",
       "<style scoped>\n",
       "    .dataframe tbody tr th:only-of-type {\n",
       "        vertical-align: middle;\n",
       "    }\n",
       "\n",
       "    .dataframe tbody tr th {\n",
       "        vertical-align: top;\n",
       "    }\n",
       "\n",
       "    .dataframe thead th {\n",
       "        text-align: right;\n",
       "    }\n",
       "</style>\n",
       "<table border=\"1\" class=\"dataframe\">\n",
       "  <thead>\n",
       "    <tr style=\"text-align: right;\">\n",
       "      <th></th>\n",
       "      <th>Runtime</th>\n",
       "      <th>IMDB Score</th>\n",
       "    </tr>\n",
       "  </thead>\n",
       "  <tbody>\n",
       "    <tr>\n",
       "      <th>count</th>\n",
       "      <td>584.000000</td>\n",
       "      <td>584.000000</td>\n",
       "    </tr>\n",
       "    <tr>\n",
       "      <th>mean</th>\n",
       "      <td>93.577055</td>\n",
       "      <td>6.271747</td>\n",
       "    </tr>\n",
       "    <tr>\n",
       "      <th>std</th>\n",
       "      <td>27.761683</td>\n",
       "      <td>0.979256</td>\n",
       "    </tr>\n",
       "    <tr>\n",
       "      <th>min</th>\n",
       "      <td>4.000000</td>\n",
       "      <td>2.500000</td>\n",
       "    </tr>\n",
       "    <tr>\n",
       "      <th>25%</th>\n",
       "      <td>86.000000</td>\n",
       "      <td>5.700000</td>\n",
       "    </tr>\n",
       "    <tr>\n",
       "      <th>50%</th>\n",
       "      <td>97.000000</td>\n",
       "      <td>6.350000</td>\n",
       "    </tr>\n",
       "    <tr>\n",
       "      <th>75%</th>\n",
       "      <td>108.000000</td>\n",
       "      <td>7.000000</td>\n",
       "    </tr>\n",
       "    <tr>\n",
       "      <th>max</th>\n",
       "      <td>209.000000</td>\n",
       "      <td>9.000000</td>\n",
       "    </tr>\n",
       "  </tbody>\n",
       "</table>\n",
       "</div>"
      ],
      "text/plain": [
       "          Runtime  IMDB Score\n",
       "count  584.000000  584.000000\n",
       "mean    93.577055    6.271747\n",
       "std     27.761683    0.979256\n",
       "min      4.000000    2.500000\n",
       "25%     86.000000    5.700000\n",
       "50%     97.000000    6.350000\n",
       "75%    108.000000    7.000000\n",
       "max    209.000000    9.000000"
      ]
     },
     "execution_count": 116,
     "metadata": {},
     "output_type": "execute_result"
    }
   ],
   "source": [
    "df.describe() #Veri setinde outlier, NaN yok"
   ]
  },
  {
   "cell_type": "markdown",
   "id": "c25527df",
   "metadata": {},
   "source": [
    "Veri setine göre uzun soluklu filmler hangi dilde oluşturulmuştur? Görselleştirme yapınız."
   ]
  },
  {
   "cell_type": "code",
   "execution_count": 117,
   "id": "175a4612",
   "metadata": {},
   "outputs": [
    {
     "data": {
      "text/html": [
       "<div>\n",
       "<style scoped>\n",
       "    .dataframe tbody tr th:only-of-type {\n",
       "        vertical-align: middle;\n",
       "    }\n",
       "\n",
       "    .dataframe tbody tr th {\n",
       "        vertical-align: top;\n",
       "    }\n",
       "\n",
       "    .dataframe thead th {\n",
       "        text-align: right;\n",
       "    }\n",
       "</style>\n",
       "<table border=\"1\" class=\"dataframe\">\n",
       "  <thead>\n",
       "    <tr style=\"text-align: right;\">\n",
       "      <th></th>\n",
       "      <th>Title</th>\n",
       "      <th>Runtime</th>\n",
       "      <th>Language</th>\n",
       "    </tr>\n",
       "  </thead>\n",
       "  <tbody>\n",
       "    <tr>\n",
       "      <th>561</th>\n",
       "      <td>The Irishman</td>\n",
       "      <td>209</td>\n",
       "      <td>English</td>\n",
       "    </tr>\n",
       "    <tr>\n",
       "      <th>328</th>\n",
       "      <td>Da 5 Bloods</td>\n",
       "      <td>155</td>\n",
       "      <td>English</td>\n",
       "    </tr>\n",
       "    <tr>\n",
       "      <th>581</th>\n",
       "      <td>Springsteen on Broadway</td>\n",
       "      <td>153</td>\n",
       "      <td>English</td>\n",
       "    </tr>\n",
       "    <tr>\n",
       "      <th>247</th>\n",
       "      <td>Citation</td>\n",
       "      <td>151</td>\n",
       "      <td>English</td>\n",
       "    </tr>\n",
       "    <tr>\n",
       "      <th>284</th>\n",
       "      <td>The Forest of Love</td>\n",
       "      <td>151</td>\n",
       "      <td>Japanese</td>\n",
       "    </tr>\n",
       "    <tr>\n",
       "      <th>509</th>\n",
       "      <td>Raat Akeli Hai</td>\n",
       "      <td>149</td>\n",
       "      <td>Hindi</td>\n",
       "    </tr>\n",
       "    <tr>\n",
       "      <th>7</th>\n",
       "      <td>The Last Days of American Crime</td>\n",
       "      <td>149</td>\n",
       "      <td>English</td>\n",
       "    </tr>\n",
       "    <tr>\n",
       "      <th>543</th>\n",
       "      <td>Ludo</td>\n",
       "      <td>149</td>\n",
       "      <td>Hindi</td>\n",
       "    </tr>\n",
       "    <tr>\n",
       "      <th>194</th>\n",
       "      <td>Army of the Dead</td>\n",
       "      <td>148</td>\n",
       "      <td>English</td>\n",
       "    </tr>\n",
       "    <tr>\n",
       "      <th>5</th>\n",
       "      <td>Drive</td>\n",
       "      <td>147</td>\n",
       "      <td>Hindi</td>\n",
       "    </tr>\n",
       "  </tbody>\n",
       "</table>\n",
       "</div>"
      ],
      "text/plain": [
       "                               Title  Runtime  Language\n",
       "561                     The Irishman      209   English\n",
       "328                      Da 5 Bloods      155   English\n",
       "581          Springsteen on Broadway      153   English\n",
       "247                         Citation      151   English\n",
       "284               The Forest of Love      151  Japanese\n",
       "509                   Raat Akeli Hai      149     Hindi\n",
       "7    The Last Days of American Crime      149   English\n",
       "543                             Ludo      149     Hindi\n",
       "194                 Army of the Dead      148   English\n",
       "5                              Drive      147     Hindi"
      ]
     },
     "execution_count": 117,
     "metadata": {},
     "output_type": "execute_result"
    }
   ],
   "source": [
    "df[['Title','Runtime','Language']].sort_values(by='Runtime',ascending=False).head(10)"
   ]
  },
  {
   "cell_type": "code",
   "execution_count": 118,
   "id": "fbc3b910",
   "metadata": {},
   "outputs": [
    {
     "data": {
      "text/plain": [
       "<AxesSubplot:title={'center':'Veri setine göre uzun soluklu filmler hangi dilde oluşturulmuştur?'}, xlabel='Language'>"
      ]
     },
     "execution_count": 118,
     "metadata": {},
     "output_type": "execute_result"
    },
    {
     "data": {
      "image/png": "[encoded data removed]",
      "text/plain": [
       "<Figure size 432x288 with 1 Axes>"
      ]
     },
     "metadata": {
      "needs_background": "light"
     },
     "output_type": "display_data"
    }
   ],
   "source": [
    "df[['Title','Runtime','Language']].sort_values(by='Runtime',ascending=False).head(10).plot.bar(x='Language',title='Veri setine göre uzun soluklu filmler hangi dilde oluşturulmuştur?')"
   ]
  },
  {
   "cell_type": "markdown",
   "id": "8c7daf8a",
   "metadata": {},
   "source": [
    "2019 Ocak ile 2020 Haziran tarihleri arasında 'Documentary' türünde çekilmiş filmlerin IMDB değerlerini bulup görselleştiriniz."
   ]
  },
  {
   "cell_type": "code",
   "execution_count": 119,
   "id": "c88c685d",
   "metadata": {},
   "outputs": [
    {
     "data": {
      "text/html": [
       "<div>\n",
       "<style scoped>\n",
       "    .dataframe tbody tr th:only-of-type {\n",
       "        vertical-align: middle;\n",
       "    }\n",
       "\n",
       "    .dataframe tbody tr th {\n",
       "        vertical-align: top;\n",
       "    }\n",
       "\n",
       "    .dataframe thead th {\n",
       "        text-align: right;\n",
       "    }\n",
       "</style>\n",
       "<table border=\"1\" class=\"dataframe\">\n",
       "  <thead>\n",
       "    <tr style=\"text-align: right;\">\n",
       "      <th></th>\n",
       "      <th>Title</th>\n",
       "      <th>IMDB Score</th>\n",
       "      <th>Premiere</th>\n",
       "      <th>Genre</th>\n",
       "    </tr>\n",
       "  </thead>\n",
       "  <tbody>\n",
       "    <tr>\n",
       "      <th>0</th>\n",
       "      <td>Enter the Anime</td>\n",
       "      <td>2.5</td>\n",
       "      <td>August 5, 2019</td>\n",
       "      <td>Documentary</td>\n",
       "    </tr>\n",
       "    <tr>\n",
       "      <th>15</th>\n",
       "      <td>After the Raid</td>\n",
       "      <td>4.3</td>\n",
       "      <td>December 19, 2019</td>\n",
       "      <td>Documentary</td>\n",
       "    </tr>\n",
       "    <tr>\n",
       "      <th>20</th>\n",
       "      <td>Hello Privilege. It's Me, Chelsea</td>\n",
       "      <td>4.4</td>\n",
       "      <td>September 13, 2019</td>\n",
       "      <td>Documentary</td>\n",
       "    </tr>\n",
       "    <tr>\n",
       "      <th>30</th>\n",
       "      <td>After Maria</td>\n",
       "      <td>4.6</td>\n",
       "      <td>May 24, 2019</td>\n",
       "      <td>Documentary</td>\n",
       "    </tr>\n",
       "    <tr>\n",
       "      <th>111</th>\n",
       "      <td>Ghosts of Sugar Land</td>\n",
       "      <td>5.5</td>\n",
       "      <td>October 16. 2019</td>\n",
       "      <td>Documentary</td>\n",
       "    </tr>\n",
       "    <tr>\n",
       "      <th>...</th>\n",
       "      <td>...</td>\n",
       "      <td>...</td>\n",
       "      <td>...</td>\n",
       "      <td>...</td>\n",
       "    </tr>\n",
       "    <tr>\n",
       "      <th>555</th>\n",
       "      <td>Crip Camp: A Disability Revolution</td>\n",
       "      <td>7.7</td>\n",
       "      <td>March 25, 2020</td>\n",
       "      <td>Documentary</td>\n",
       "    </tr>\n",
       "    <tr>\n",
       "      <th>558</th>\n",
       "      <td>Road to Roma</td>\n",
       "      <td>7.7</td>\n",
       "      <td>February 11, 2020</td>\n",
       "      <td>Making-of</td>\n",
       "    </tr>\n",
       "    <tr>\n",
       "      <th>563</th>\n",
       "      <td>A Secret Love</td>\n",
       "      <td>7.9</td>\n",
       "      <td>April 29, 2020</td>\n",
       "      <td>Documentary</td>\n",
       "    </tr>\n",
       "    <tr>\n",
       "      <th>572</th>\n",
       "      <td>Disclosure: Trans Lives on Screen</td>\n",
       "      <td>8.2</td>\n",
       "      <td>June 19, 2020</td>\n",
       "      <td>Documentary</td>\n",
       "    </tr>\n",
       "    <tr>\n",
       "      <th>578</th>\n",
       "      <td>Ben Platt: Live from Radio City Music Hall</td>\n",
       "      <td>8.4</td>\n",
       "      <td>May 20, 2020</td>\n",
       "      <td>Concert Film</td>\n",
       "    </tr>\n",
       "  </tbody>\n",
       "</table>\n",
       "<p>105 rows × 4 columns</p>\n",
       "</div>"
      ],
      "text/plain": [
       "                                          Title  IMDB Score  \\\n",
       "0                               Enter the Anime         2.5   \n",
       "15                               After the Raid         4.3   \n",
       "20            Hello Privilege. It's Me, Chelsea         4.4   \n",
       "30                                  After Maria         4.6   \n",
       "111                        Ghosts of Sugar Land         5.5   \n",
       "..                                          ...         ...   \n",
       "555          Crip Camp: A Disability Revolution         7.7   \n",
       "558                                Road to Roma         7.7   \n",
       "563                               A Secret Love         7.9   \n",
       "572           Disclosure: Trans Lives on Screen         8.2   \n",
       "578  Ben Platt: Live from Radio City Music Hall         8.4   \n",
       "\n",
       "               Premiere         Genre  \n",
       "0        August 5, 2019   Documentary  \n",
       "15    December 19, 2019   Documentary  \n",
       "20   September 13, 2019   Documentary  \n",
       "30         May 24, 2019   Documentary  \n",
       "111    October 16. 2019   Documentary  \n",
       "..                  ...           ...  \n",
       "555      March 25, 2020   Documentary  \n",
       "558   February 11, 2020     Making-of  \n",
       "563      April 29, 2020   Documentary  \n",
       "572       June 19, 2020   Documentary  \n",
       "578        May 20, 2020  Concert Film  \n",
       "\n",
       "[105 rows x 4 columns]"
      ]
     },
     "execution_count": 119,
     "metadata": {},
     "output_type": "execute_result"
    }
   ],
   "source": [
    "dfd=df[(df['Genre']=='Documentary')&(df['Premiere'].str[-4:]=='2019')]\n",
    "dfd1=df[(df['Premiere'].str[-4:]=='2020')&(df['Premiere'].str.match('January|February|March|April|May|June'))]\n",
    "dfd_doc=pd.concat([dfd,dfd1])\n",
    "dfd_doc[['Title','IMDB Score','Premiere','Genre']]"
   ]
  },
  {
   "cell_type": "markdown",
   "id": "76ae51e5",
   "metadata": {},
   "source": [
    "İngilizce çekilen filmler içerisinde hangi tür en yüksek IMDB puanına sahiptir?"
   ]
  },
  {
   "cell_type": "code",
   "execution_count": 120,
   "id": "d8bc31dc",
   "metadata": {},
   "outputs": [
    {
     "data": {
      "text/html": [
       "<div>\n",
       "<style scoped>\n",
       "    .dataframe tbody tr th:only-of-type {\n",
       "        vertical-align: middle;\n",
       "    }\n",
       "\n",
       "    .dataframe tbody tr th {\n",
       "        vertical-align: top;\n",
       "    }\n",
       "\n",
       "    .dataframe thead th {\n",
       "        text-align: right;\n",
       "    }\n",
       "</style>\n",
       "<table border=\"1\" class=\"dataframe\">\n",
       "  <thead>\n",
       "    <tr style=\"text-align: right;\">\n",
       "      <th></th>\n",
       "      <th>Genre</th>\n",
       "      <th>Language</th>\n",
       "      <th>IMDB Score</th>\n",
       "    </tr>\n",
       "  </thead>\n",
       "  <tbody>\n",
       "    <tr>\n",
       "      <th>583</th>\n",
       "      <td>Documentary</td>\n",
       "      <td>English</td>\n",
       "      <td>9.0</td>\n",
       "    </tr>\n",
       "  </tbody>\n",
       "</table>\n",
       "</div>"
      ],
      "text/plain": [
       "           Genre Language  IMDB Score\n",
       "583  Documentary  English         9.0"
      ]
     },
     "execution_count": 120,
     "metadata": {},
     "output_type": "execute_result"
    }
   ],
   "source": [
    "df[['Genre','Language','IMDB Score']][df['Language']=='English'].sort_values(by=['IMDB Score'],ascending=False).head(1)"
   ]
  },
  {
   "cell_type": "markdown",
   "id": "cecd40bd",
   "metadata": {},
   "source": [
    "'Hindi' Dilinde çekilmiş olan filmlerin ortalama 'runtime' suresi nedir?"
   ]
  },
  {
   "cell_type": "code",
   "execution_count": 121,
   "id": "aa84f382",
   "metadata": {},
   "outputs": [
    {
     "data": {
      "text/plain": [
       "115.78787878787878"
      ]
     },
     "execution_count": 121,
     "metadata": {},
     "output_type": "execute_result"
    }
   ],
   "source": [
    "df_h=df[df['Language']=='Hindi']\n",
    "df_h['Runtime'].mean()"
   ]
  },
  {
   "cell_type": "markdown",
   "id": "6abb19e0",
   "metadata": {},
   "source": [
    "'Genre' Sütunu kaç kategoriye sahiptir ve bu kategoriler nelerdir? Görselleştirerek ifade ediniz."
   ]
  },
  {
   "cell_type": "code",
   "execution_count": 122,
   "id": "b3dce806",
   "metadata": {},
   "outputs": [
    {
     "data": {
      "text/html": [
       "<div>\n",
       "<style scoped>\n",
       "    .dataframe tbody tr th:only-of-type {\n",
       "        vertical-align: middle;\n",
       "    }\n",
       "\n",
       "    .dataframe tbody tr th {\n",
       "        vertical-align: top;\n",
       "    }\n",
       "\n",
       "    .dataframe thead th {\n",
       "        text-align: right;\n",
       "    }\n",
       "</style>\n",
       "<table border=\"1\" class=\"dataframe\">\n",
       "  <thead>\n",
       "    <tr style=\"text-align: right;\">\n",
       "      <th></th>\n",
       "      <th>Title</th>\n",
       "      <th>Premiere</th>\n",
       "      <th>Runtime</th>\n",
       "      <th>IMDB Score</th>\n",
       "      <th>Language</th>\n",
       "    </tr>\n",
       "    <tr>\n",
       "      <th>Genre</th>\n",
       "      <th></th>\n",
       "      <th></th>\n",
       "      <th></th>\n",
       "      <th></th>\n",
       "      <th></th>\n",
       "    </tr>\n",
       "  </thead>\n",
       "  <tbody>\n",
       "    <tr>\n",
       "      <th>Documentary</th>\n",
       "      <td>159</td>\n",
       "      <td>159</td>\n",
       "      <td>159</td>\n",
       "      <td>159</td>\n",
       "      <td>159</td>\n",
       "    </tr>\n",
       "    <tr>\n",
       "      <th>Drama</th>\n",
       "      <td>77</td>\n",
       "      <td>77</td>\n",
       "      <td>77</td>\n",
       "      <td>77</td>\n",
       "      <td>77</td>\n",
       "    </tr>\n",
       "    <tr>\n",
       "      <th>Comedy</th>\n",
       "      <td>49</td>\n",
       "      <td>49</td>\n",
       "      <td>49</td>\n",
       "      <td>49</td>\n",
       "      <td>49</td>\n",
       "    </tr>\n",
       "    <tr>\n",
       "      <th>Romantic comedy</th>\n",
       "      <td>39</td>\n",
       "      <td>39</td>\n",
       "      <td>39</td>\n",
       "      <td>39</td>\n",
       "      <td>39</td>\n",
       "    </tr>\n",
       "    <tr>\n",
       "      <th>Thriller</th>\n",
       "      <td>33</td>\n",
       "      <td>33</td>\n",
       "      <td>33</td>\n",
       "      <td>33</td>\n",
       "      <td>33</td>\n",
       "    </tr>\n",
       "    <tr>\n",
       "      <th>...</th>\n",
       "      <td>...</td>\n",
       "      <td>...</td>\n",
       "      <td>...</td>\n",
       "      <td>...</td>\n",
       "      <td>...</td>\n",
       "    </tr>\n",
       "    <tr>\n",
       "      <th>Coming-of-age comedy-drama</th>\n",
       "      <td>1</td>\n",
       "      <td>1</td>\n",
       "      <td>1</td>\n",
       "      <td>1</td>\n",
       "      <td>1</td>\n",
       "    </tr>\n",
       "    <tr>\n",
       "      <th>Comedy/Horror</th>\n",
       "      <td>1</td>\n",
       "      <td>1</td>\n",
       "      <td>1</td>\n",
       "      <td>1</td>\n",
       "      <td>1</td>\n",
       "    </tr>\n",
       "    <tr>\n",
       "      <th>Comedy/Fantasy/Family</th>\n",
       "      <td>1</td>\n",
       "      <td>1</td>\n",
       "      <td>1</td>\n",
       "      <td>1</td>\n",
       "      <td>1</td>\n",
       "    </tr>\n",
       "    <tr>\n",
       "      <th>Comedy mystery</th>\n",
       "      <td>1</td>\n",
       "      <td>1</td>\n",
       "      <td>1</td>\n",
       "      <td>1</td>\n",
       "      <td>1</td>\n",
       "    </tr>\n",
       "    <tr>\n",
       "      <th>Zombie/Heist</th>\n",
       "      <td>1</td>\n",
       "      <td>1</td>\n",
       "      <td>1</td>\n",
       "      <td>1</td>\n",
       "      <td>1</td>\n",
       "    </tr>\n",
       "  </tbody>\n",
       "</table>\n",
       "<p>115 rows × 5 columns</p>\n",
       "</div>"
      ],
      "text/plain": [
       "                            Title  Premiere  Runtime  IMDB Score  Language\n",
       "Genre                                                                     \n",
       "Documentary                   159       159      159         159       159\n",
       "Drama                          77        77       77          77        77\n",
       "Comedy                         49        49       49          49        49\n",
       "Romantic comedy                39        39       39          39        39\n",
       "Thriller                       33        33       33          33        33\n",
       "...                           ...       ...      ...         ...       ...\n",
       "Coming-of-age comedy-drama      1         1        1           1         1\n",
       "Comedy/Horror                   1         1        1           1         1\n",
       "Comedy/Fantasy/Family           1         1        1           1         1\n",
       "Comedy mystery                  1         1        1           1         1\n",
       "Zombie/Heist                    1         1        1           1         1\n",
       "\n",
       "[115 rows x 5 columns]"
      ]
     },
     "execution_count": 122,
     "metadata": {},
     "output_type": "execute_result"
    }
   ],
   "source": [
    "df.groupby(by=['Genre']).count().sort_values(by='Title',ascending=False)"
   ]
  },
  {
   "cell_type": "markdown",
   "id": "29c6fc9c",
   "metadata": {},
   "source": [
    "Veri setinde bulunan filmlerde en çok kullanılan 3 dili bulunuz."
   ]
  },
  {
   "cell_type": "code",
   "execution_count": 123,
   "id": "595331a9",
   "metadata": {},
   "outputs": [
    {
     "data": {
      "text/html": [
       "<div>\n",
       "<style scoped>\n",
       "    .dataframe tbody tr th:only-of-type {\n",
       "        vertical-align: middle;\n",
       "    }\n",
       "\n",
       "    .dataframe tbody tr th {\n",
       "        vertical-align: top;\n",
       "    }\n",
       "\n",
       "    .dataframe thead th {\n",
       "        text-align: right;\n",
       "    }\n",
       "</style>\n",
       "<table border=\"1\" class=\"dataframe\">\n",
       "  <thead>\n",
       "    <tr style=\"text-align: right;\">\n",
       "      <th></th>\n",
       "      <th>Title</th>\n",
       "      <th>Genre</th>\n",
       "      <th>Premiere</th>\n",
       "      <th>Runtime</th>\n",
       "      <th>IMDB Score</th>\n",
       "    </tr>\n",
       "    <tr>\n",
       "      <th>Language</th>\n",
       "      <th></th>\n",
       "      <th></th>\n",
       "      <th></th>\n",
       "      <th></th>\n",
       "      <th></th>\n",
       "    </tr>\n",
       "  </thead>\n",
       "  <tbody>\n",
       "    <tr>\n",
       "      <th>English</th>\n",
       "      <td>401</td>\n",
       "      <td>401</td>\n",
       "      <td>401</td>\n",
       "      <td>401</td>\n",
       "      <td>401</td>\n",
       "    </tr>\n",
       "    <tr>\n",
       "      <th>Hindi</th>\n",
       "      <td>33</td>\n",
       "      <td>33</td>\n",
       "      <td>33</td>\n",
       "      <td>33</td>\n",
       "      <td>33</td>\n",
       "    </tr>\n",
       "    <tr>\n",
       "      <th>Spanish</th>\n",
       "      <td>31</td>\n",
       "      <td>31</td>\n",
       "      <td>31</td>\n",
       "      <td>31</td>\n",
       "      <td>31</td>\n",
       "    </tr>\n",
       "  </tbody>\n",
       "</table>\n",
       "</div>"
      ],
      "text/plain": [
       "          Title  Genre  Premiere  Runtime  IMDB Score\n",
       "Language                                             \n",
       "English     401    401       401      401         401\n",
       "Hindi        33     33        33       33          33\n",
       "Spanish      31     31        31       31          31"
      ]
     },
     "execution_count": 123,
     "metadata": {},
     "output_type": "execute_result"
    }
   ],
   "source": [
    "df.groupby(by='Language').count().sort_values(by='Title',ascending=False).head(3)"
   ]
  },
  {
   "cell_type": "markdown",
   "id": "801a9af7",
   "metadata": {},
   "source": [
    "IMDB puanı en yüksek olan ilk 10 film hangileridir?"
   ]
  },
  {
   "cell_type": "code",
   "execution_count": 124,
   "id": "aa7efc3c",
   "metadata": {
    "scrolled": true
   },
   "outputs": [
    {
     "data": {
      "text/html": [
       "<div>\n",
       "<style scoped>\n",
       "    .dataframe tbody tr th:only-of-type {\n",
       "        vertical-align: middle;\n",
       "    }\n",
       "\n",
       "    .dataframe tbody tr th {\n",
       "        vertical-align: top;\n",
       "    }\n",
       "\n",
       "    .dataframe thead th {\n",
       "        text-align: right;\n",
       "    }\n",
       "</style>\n",
       "<table border=\"1\" class=\"dataframe\">\n",
       "  <thead>\n",
       "    <tr style=\"text-align: right;\">\n",
       "      <th></th>\n",
       "      <th>Title</th>\n",
       "      <th>IMDB Score</th>\n",
       "    </tr>\n",
       "  </thead>\n",
       "  <tbody>\n",
       "    <tr>\n",
       "      <th>583</th>\n",
       "      <td>David Attenborough: A Life on Our Planet</td>\n",
       "      <td>9.0</td>\n",
       "    </tr>\n",
       "    <tr>\n",
       "      <th>582</th>\n",
       "      <td>Emicida: AmarElo - It's All For Yesterday</td>\n",
       "      <td>8.6</td>\n",
       "    </tr>\n",
       "    <tr>\n",
       "      <th>581</th>\n",
       "      <td>Springsteen on Broadway</td>\n",
       "      <td>8.5</td>\n",
       "    </tr>\n",
       "    <tr>\n",
       "      <th>580</th>\n",
       "      <td>Winter on Fire: Ukraine's Fight for Freedom</td>\n",
       "      <td>8.4</td>\n",
       "    </tr>\n",
       "    <tr>\n",
       "      <th>579</th>\n",
       "      <td>Taylor Swift: Reputation Stadium Tour</td>\n",
       "      <td>8.4</td>\n",
       "    </tr>\n",
       "    <tr>\n",
       "      <th>578</th>\n",
       "      <td>Ben Platt: Live from Radio City Music Hall</td>\n",
       "      <td>8.4</td>\n",
       "    </tr>\n",
       "    <tr>\n",
       "      <th>577</th>\n",
       "      <td>Dancing with the Birds</td>\n",
       "      <td>8.3</td>\n",
       "    </tr>\n",
       "    <tr>\n",
       "      <th>576</th>\n",
       "      <td>Cuba and the Cameraman</td>\n",
       "      <td>8.3</td>\n",
       "    </tr>\n",
       "    <tr>\n",
       "      <th>573</th>\n",
       "      <td>Klaus</td>\n",
       "      <td>8.2</td>\n",
       "    </tr>\n",
       "    <tr>\n",
       "      <th>571</th>\n",
       "      <td>13th</td>\n",
       "      <td>8.2</td>\n",
       "    </tr>\n",
       "  </tbody>\n",
       "</table>\n",
       "</div>"
      ],
      "text/plain": [
       "                                           Title  IMDB Score\n",
       "583     David Attenborough: A Life on Our Planet         9.0\n",
       "582    Emicida: AmarElo - It's All For Yesterday         8.6\n",
       "581                      Springsteen on Broadway         8.5\n",
       "580  Winter on Fire: Ukraine's Fight for Freedom         8.4\n",
       "579        Taylor Swift: Reputation Stadium Tour         8.4\n",
       "578   Ben Platt: Live from Radio City Music Hall         8.4\n",
       "577                       Dancing with the Birds         8.3\n",
       "576                      Cuba and the Cameraman          8.3\n",
       "573                                        Klaus         8.2\n",
       "571                                         13th         8.2"
      ]
     },
     "execution_count": 124,
     "metadata": {},
     "output_type": "execute_result"
    }
   ],
   "source": [
    "df[['Title','IMDB Score']].sort_values(by='IMDB Score',ascending=False).head(10)\t"
   ]
  },
  {
   "cell_type": "markdown",
   "id": "48d47f8f",
   "metadata": {},
   "source": [
    "IMDB puanı ile 'Runtime' arasında nasıl bir korelasyon vardır? İnceleyip görselleştiriniz."
   ]
  },
  {
   "cell_type": "code",
   "execution_count": 125,
   "id": "af7dfd45",
   "metadata": {},
   "outputs": [
    {
     "data": {
      "text/plain": [
       "array([[ 1.        , -0.04089629],\n",
       "       [-0.04089629,  1.        ]])"
      ]
     },
     "execution_count": 125,
     "metadata": {},
     "output_type": "execute_result"
    }
   ],
   "source": [
    "import numpy as np\n",
    "cor = np.corrcoef(df['Runtime'], df['IMDB Score'])\n",
    "cor #korelasyon neredeyse yok"
   ]
  },
  {
   "cell_type": "code",
   "execution_count": 126,
   "id": "dac8d98f",
   "metadata": {},
   "outputs": [
    {
     "data": {
      "image/png": "[encoded data removed]",
      "text/plain": [
       "<Figure size 432x288 with 1 Axes>"
      ]
     },
     "metadata": {
      "needs_background": "light"
     },
     "output_type": "display_data"
    }
   ],
   "source": [
    "import matplotlib.pyplot as plt\n",
    "plt.scatter(df['Runtime'], df['IMDB Score'])\n",
    "plt.show()"
   ]
  },
  {
   "cell_type": "markdown",
   "id": "9cf299fa",
   "metadata": {},
   "source": [
    "IMDB Puanı en yüksek olan ilk 10 'Genre' hangileridir? Görselleştiriniz."
   ]
  },
  {
   "cell_type": "code",
   "execution_count": 127,
   "id": "ec0aae5a",
   "metadata": {},
   "outputs": [
    {
     "data": {
      "text/html": [
       "<div>\n",
       "<style scoped>\n",
       "    .dataframe tbody tr th:only-of-type {\n",
       "        vertical-align: middle;\n",
       "    }\n",
       "\n",
       "    .dataframe tbody tr th {\n",
       "        vertical-align: top;\n",
       "    }\n",
       "\n",
       "    .dataframe thead th {\n",
       "        text-align: right;\n",
       "    }\n",
       "</style>\n",
       "<table border=\"1\" class=\"dataframe\">\n",
       "  <thead>\n",
       "    <tr style=\"text-align: right;\">\n",
       "      <th></th>\n",
       "      <th>Genre</th>\n",
       "      <th>IMDB Score</th>\n",
       "    </tr>\n",
       "  </thead>\n",
       "  <tbody>\n",
       "    <tr>\n",
       "      <th>583</th>\n",
       "      <td>Documentary</td>\n",
       "      <td>9.0</td>\n",
       "    </tr>\n",
       "    <tr>\n",
       "      <th>582</th>\n",
       "      <td>Documentary</td>\n",
       "      <td>8.6</td>\n",
       "    </tr>\n",
       "    <tr>\n",
       "      <th>581</th>\n",
       "      <td>One-man show</td>\n",
       "      <td>8.5</td>\n",
       "    </tr>\n",
       "    <tr>\n",
       "      <th>580</th>\n",
       "      <td>Documentary</td>\n",
       "      <td>8.4</td>\n",
       "    </tr>\n",
       "    <tr>\n",
       "      <th>579</th>\n",
       "      <td>Concert Film</td>\n",
       "      <td>8.4</td>\n",
       "    </tr>\n",
       "    <tr>\n",
       "      <th>578</th>\n",
       "      <td>Concert Film</td>\n",
       "      <td>8.4</td>\n",
       "    </tr>\n",
       "    <tr>\n",
       "      <th>577</th>\n",
       "      <td>Documentary</td>\n",
       "      <td>8.3</td>\n",
       "    </tr>\n",
       "    <tr>\n",
       "      <th>576</th>\n",
       "      <td>Documentary</td>\n",
       "      <td>8.3</td>\n",
       "    </tr>\n",
       "    <tr>\n",
       "      <th>573</th>\n",
       "      <td>Animation/Christmas/Comedy/Adventure</td>\n",
       "      <td>8.2</td>\n",
       "    </tr>\n",
       "    <tr>\n",
       "      <th>571</th>\n",
       "      <td>Documentary</td>\n",
       "      <td>8.2</td>\n",
       "    </tr>\n",
       "  </tbody>\n",
       "</table>\n",
       "</div>"
      ],
      "text/plain": [
       "                                    Genre  IMDB Score\n",
       "583                           Documentary         9.0\n",
       "582                           Documentary         8.6\n",
       "581                          One-man show         8.5\n",
       "580                           Documentary         8.4\n",
       "579                          Concert Film         8.4\n",
       "578                          Concert Film         8.4\n",
       "577                           Documentary         8.3\n",
       "576                           Documentary         8.3\n",
       "573  Animation/Christmas/Comedy/Adventure         8.2\n",
       "571                           Documentary         8.2"
      ]
     },
     "execution_count": 127,
     "metadata": {},
     "output_type": "execute_result"
    }
   ],
   "source": [
    "df[['Genre','IMDB Score']].sort_values(by=['IMDB Score'],ascending=False).head(10)"
   ]
  },
  {
   "cell_type": "markdown",
   "id": "0113d71c",
   "metadata": {},
   "source": [
    "'Runtime' değeri en yüksek olan ilk 10 film hangileridir? Görselleştiriniz."
   ]
  },
  {
   "cell_type": "code",
   "execution_count": 128,
   "id": "8bc9565b",
   "metadata": {},
   "outputs": [
    {
     "data": {
      "text/html": [
       "<div>\n",
       "<style scoped>\n",
       "    .dataframe tbody tr th:only-of-type {\n",
       "        vertical-align: middle;\n",
       "    }\n",
       "\n",
       "    .dataframe tbody tr th {\n",
       "        vertical-align: top;\n",
       "    }\n",
       "\n",
       "    .dataframe thead th {\n",
       "        text-align: right;\n",
       "    }\n",
       "</style>\n",
       "<table border=\"1\" class=\"dataframe\">\n",
       "  <thead>\n",
       "    <tr style=\"text-align: right;\">\n",
       "      <th></th>\n",
       "      <th>Title</th>\n",
       "      <th>Genre</th>\n",
       "      <th>Premiere</th>\n",
       "      <th>Runtime</th>\n",
       "      <th>IMDB Score</th>\n",
       "      <th>Language</th>\n",
       "    </tr>\n",
       "  </thead>\n",
       "  <tbody>\n",
       "    <tr>\n",
       "      <th>561</th>\n",
       "      <td>The Irishman</td>\n",
       "      <td>Crime drama</td>\n",
       "      <td>November 27, 2019</td>\n",
       "      <td>209</td>\n",
       "      <td>7.8</td>\n",
       "      <td>English</td>\n",
       "    </tr>\n",
       "    <tr>\n",
       "      <th>328</th>\n",
       "      <td>Da 5 Bloods</td>\n",
       "      <td>War drama</td>\n",
       "      <td>June 12, 2020</td>\n",
       "      <td>155</td>\n",
       "      <td>6.5</td>\n",
       "      <td>English</td>\n",
       "    </tr>\n",
       "    <tr>\n",
       "      <th>581</th>\n",
       "      <td>Springsteen on Broadway</td>\n",
       "      <td>One-man show</td>\n",
       "      <td>December 16, 2018</td>\n",
       "      <td>153</td>\n",
       "      <td>8.5</td>\n",
       "      <td>English</td>\n",
       "    </tr>\n",
       "    <tr>\n",
       "      <th>247</th>\n",
       "      <td>Citation</td>\n",
       "      <td>Drama</td>\n",
       "      <td>November 6, 2020</td>\n",
       "      <td>151</td>\n",
       "      <td>6.2</td>\n",
       "      <td>English</td>\n",
       "    </tr>\n",
       "    <tr>\n",
       "      <th>284</th>\n",
       "      <td>The Forest of Love</td>\n",
       "      <td>Drama</td>\n",
       "      <td>October 11, 2019</td>\n",
       "      <td>151</td>\n",
       "      <td>6.3</td>\n",
       "      <td>Japanese</td>\n",
       "    </tr>\n",
       "    <tr>\n",
       "      <th>509</th>\n",
       "      <td>Raat Akeli Hai</td>\n",
       "      <td>Thriller</td>\n",
       "      <td>July 31, 2020</td>\n",
       "      <td>149</td>\n",
       "      <td>7.3</td>\n",
       "      <td>Hindi</td>\n",
       "    </tr>\n",
       "    <tr>\n",
       "      <th>7</th>\n",
       "      <td>The Last Days of American Crime</td>\n",
       "      <td>Heist film/Thriller</td>\n",
       "      <td>June 5, 2020</td>\n",
       "      <td>149</td>\n",
       "      <td>3.7</td>\n",
       "      <td>English</td>\n",
       "    </tr>\n",
       "    <tr>\n",
       "      <th>543</th>\n",
       "      <td>Ludo</td>\n",
       "      <td>Anthology/Dark comedy</td>\n",
       "      <td>November 12, 2020</td>\n",
       "      <td>149</td>\n",
       "      <td>7.6</td>\n",
       "      <td>Hindi</td>\n",
       "    </tr>\n",
       "    <tr>\n",
       "      <th>194</th>\n",
       "      <td>Army of the Dead</td>\n",
       "      <td>Zombie/Heist</td>\n",
       "      <td>May 21, 2021</td>\n",
       "      <td>148</td>\n",
       "      <td>5.9</td>\n",
       "      <td>English</td>\n",
       "    </tr>\n",
       "    <tr>\n",
       "      <th>5</th>\n",
       "      <td>Drive</td>\n",
       "      <td>Action</td>\n",
       "      <td>November 1, 2019</td>\n",
       "      <td>147</td>\n",
       "      <td>3.5</td>\n",
       "      <td>Hindi</td>\n",
       "    </tr>\n",
       "  </tbody>\n",
       "</table>\n",
       "</div>"
      ],
      "text/plain": [
       "                               Title                  Genre  \\\n",
       "561                     The Irishman            Crime drama   \n",
       "328                      Da 5 Bloods              War drama   \n",
       "581          Springsteen on Broadway           One-man show   \n",
       "247                         Citation                  Drama   \n",
       "284               The Forest of Love                  Drama   \n",
       "509                   Raat Akeli Hai               Thriller   \n",
       "7    The Last Days of American Crime    Heist film/Thriller   \n",
       "543                             Ludo  Anthology/Dark comedy   \n",
       "194                 Army of the Dead           Zombie/Heist   \n",
       "5                              Drive                 Action   \n",
       "\n",
       "              Premiere  Runtime  IMDB Score  Language  \n",
       "561  November 27, 2019      209         7.8   English  \n",
       "328      June 12, 2020      155         6.5   English  \n",
       "581  December 16, 2018      153         8.5   English  \n",
       "247   November 6, 2020      151         6.2   English  \n",
       "284   October 11, 2019      151         6.3  Japanese  \n",
       "509      July 31, 2020      149         7.3     Hindi  \n",
       "7         June 5, 2020      149         3.7   English  \n",
       "543  November 12, 2020      149         7.6     Hindi  \n",
       "194       May 21, 2021      148         5.9   English  \n",
       "5     November 1, 2019      147         3.5     Hindi  "
      ]
     },
     "execution_count": 128,
     "metadata": {},
     "output_type": "execute_result"
    }
   ],
   "source": [
    "df.sort_values(by='Runtime',ascending=False).head(10)"
   ]
  },
  {
   "cell_type": "code",
   "execution_count": 129,
   "id": "86098708",
   "metadata": {},
   "outputs": [
    {
     "data": {
      "text/plain": [
       "<AxesSubplot:title={'center':\"'Runtime' değeri en yüksek olan ilk 10 film hangileridir?\"}, xlabel='Title'>"
      ]
     },
     "execution_count": 129,
     "metadata": {},
     "output_type": "execute_result"
    },
    {
     "data": {
      "image/png": "[encoded data removed]",
      "text/plain": [
       "<Figure size 432x288 with 1 Axes>"
      ]
     },
     "metadata": {
      "needs_background": "light"
     },
     "output_type": "display_data"
    }
   ],
   "source": [
    "df.sort_values(by='Runtime',ascending=False).head(10).plot.bar(x='Title',y='Runtime',color='gray',title=\"'Runtime' değeri en yüksek olan ilk 10 film hangileridir?\")"
   ]
  },
  {
   "cell_type": "markdown",
   "id": "ade6a7f0",
   "metadata": {},
   "source": [
    "Hangi yılda en fazla film yayımlanmıştır? Görselleştiriniz."
   ]
  },
  {
   "cell_type": "code",
   "execution_count": 130,
   "id": "901037bf",
   "metadata": {},
   "outputs": [
    {
     "data": {
      "text/html": [
       "<div>\n",
       "<style scoped>\n",
       "    .dataframe tbody tr th:only-of-type {\n",
       "        vertical-align: middle;\n",
       "    }\n",
       "\n",
       "    .dataframe tbody tr th {\n",
       "        vertical-align: top;\n",
       "    }\n",
       "\n",
       "    .dataframe thead th {\n",
       "        text-align: right;\n",
       "    }\n",
       "</style>\n",
       "<table border=\"1\" class=\"dataframe\">\n",
       "  <thead>\n",
       "    <tr style=\"text-align: right;\">\n",
       "      <th></th>\n",
       "      <th>Title</th>\n",
       "    </tr>\n",
       "    <tr>\n",
       "      <th>Premiere</th>\n",
       "      <th></th>\n",
       "    </tr>\n",
       "  </thead>\n",
       "  <tbody>\n",
       "    <tr>\n",
       "      <th>2020</th>\n",
       "      <td>183</td>\n",
       "    </tr>\n",
       "    <tr>\n",
       "      <th>2019</th>\n",
       "      <td>125</td>\n",
       "    </tr>\n",
       "    <tr>\n",
       "      <th>2018</th>\n",
       "      <td>99</td>\n",
       "    </tr>\n",
       "    <tr>\n",
       "      <th>2021</th>\n",
       "      <td>71</td>\n",
       "    </tr>\n",
       "    <tr>\n",
       "      <th>2017</th>\n",
       "      <td>66</td>\n",
       "    </tr>\n",
       "    <tr>\n",
       "      <th>2016</th>\n",
       "      <td>30</td>\n",
       "    </tr>\n",
       "    <tr>\n",
       "      <th>2015</th>\n",
       "      <td>9</td>\n",
       "    </tr>\n",
       "    <tr>\n",
       "      <th>2014</th>\n",
       "      <td>1</td>\n",
       "    </tr>\n",
       "  </tbody>\n",
       "</table>\n",
       "</div>"
      ],
      "text/plain": [
       "          Title\n",
       "Premiere       \n",
       "2020        183\n",
       "2019        125\n",
       "2018         99\n",
       "2021         71\n",
       "2017         66\n",
       "2016         30\n",
       "2015          9\n",
       "2014          1"
      ]
     },
     "execution_count": 130,
     "metadata": {},
     "output_type": "execute_result"
    }
   ],
   "source": [
    "df['Premiere'] = df['Premiere'].str[-4:]\n",
    "dff=df[['Premiere','Title']].groupby(['Premiere']).count().sort_values('Title',ascending=False)\n",
    "dff"
   ]
  },
  {
   "cell_type": "code",
   "execution_count": 131,
   "id": "de0744ae",
   "metadata": {},
   "outputs": [
    {
     "data": {
      "text/plain": [
       "<AxesSubplot:xlabel='Years', ylabel='Count'>"
      ]
     },
     "execution_count": 131,
     "metadata": {},
     "output_type": "execute_result"
    },
    {
     "data": {
      "image/png": "[encoded data removed]",
      "text/plain": [
       "<Figure size 432x288 with 1 Axes>"
      ]
     },
     "metadata": {
      "needs_background": "light"
     },
     "output_type": "display_data"
    }
   ],
   "source": [
    "dff.plot.bar(xlabel='Years',ylabel='Count',color='pink',legend=None)"
   ]
  },
  {
   "cell_type": "markdown",
   "id": "b84dbc5b",
   "metadata": {},
   "source": [
    "Hangi dilde yayımlanan filmler en düşük ortalama IMBD puanına sahiptir? Görselleştiriniz."
   ]
  },
  {
   "cell_type": "code",
   "execution_count": 132,
   "id": "b1fad420",
   "metadata": {},
   "outputs": [
    {
     "data": {
      "text/html": [
       "<div>\n",
       "<style scoped>\n",
       "    .dataframe tbody tr th:only-of-type {\n",
       "        vertical-align: middle;\n",
       "    }\n",
       "\n",
       "    .dataframe tbody tr th {\n",
       "        vertical-align: top;\n",
       "    }\n",
       "\n",
       "    .dataframe thead th {\n",
       "        text-align: right;\n",
       "    }\n",
       "</style>\n",
       "<table border=\"1\" class=\"dataframe\">\n",
       "  <thead>\n",
       "    <tr style=\"text-align: right;\">\n",
       "      <th></th>\n",
       "      <th>IMDB Score</th>\n",
       "    </tr>\n",
       "    <tr>\n",
       "      <th>Language</th>\n",
       "      <th></th>\n",
       "    </tr>\n",
       "  </thead>\n",
       "  <tbody>\n",
       "    <tr>\n",
       "      <th>Malay</th>\n",
       "      <td>4.2</td>\n",
       "    </tr>\n",
       "  </tbody>\n",
       "</table>\n",
       "</div>"
      ],
      "text/plain": [
       "          IMDB Score\n",
       "Language            \n",
       "Malay            4.2"
      ]
     },
     "execution_count": 132,
     "metadata": {},
     "output_type": "execute_result"
    }
   ],
   "source": [
    "df[['IMDB Score','Language']].groupby('Language').mean().sort_values(by='IMDB Score').head(1)"
   ]
  },
  {
   "cell_type": "code",
   "execution_count": 133,
   "id": "2f7b47f5",
   "metadata": {},
   "outputs": [
    {
     "data": {
      "text/plain": [
       "<AxesSubplot:xlabel='Language'>"
      ]
     },
     "execution_count": 133,
     "metadata": {},
     "output_type": "execute_result"
    },
    {
     "data": {
      "image/png": "[encoded data removed]",
      "text/plain": [
       "<Figure size 432x288 with 1 Axes>"
      ]
     },
     "metadata": {
      "needs_background": "light"
     },
     "output_type": "display_data"
    }
   ],
   "source": [
    "df[['IMDB Score','Language']].groupby('Language').mean().sort_values(by='IMDB Score').plot.bar()"
   ]
  },
  {
   "cell_type": "markdown",
   "id": "8e2a1305",
   "metadata": {},
   "source": [
    "Hangi yılın toplam \"runtime\" süresi en fazladır?"
   ]
  },
  {
   "cell_type": "code",
   "execution_count": 134,
   "id": "aaa21618",
   "metadata": {},
   "outputs": [
    {
     "data": {
      "text/html": [
       "<div>\n",
       "<style scoped>\n",
       "    .dataframe tbody tr th:only-of-type {\n",
       "        vertical-align: middle;\n",
       "    }\n",
       "\n",
       "    .dataframe tbody tr th {\n",
       "        vertical-align: top;\n",
       "    }\n",
       "\n",
       "    .dataframe thead th {\n",
       "        text-align: right;\n",
       "    }\n",
       "</style>\n",
       "<table border=\"1\" class=\"dataframe\">\n",
       "  <thead>\n",
       "    <tr style=\"text-align: right;\">\n",
       "      <th></th>\n",
       "      <th>Runtime</th>\n",
       "    </tr>\n",
       "    <tr>\n",
       "      <th>Premiere</th>\n",
       "      <th></th>\n",
       "    </tr>\n",
       "  </thead>\n",
       "  <tbody>\n",
       "    <tr>\n",
       "      <th>2020</th>\n",
       "      <td>17384</td>\n",
       "    </tr>\n",
       "  </tbody>\n",
       "</table>\n",
       "</div>"
      ],
      "text/plain": [
       "          Runtime\n",
       "Premiere         \n",
       "2020        17384"
      ]
     },
     "execution_count": 134,
     "metadata": {},
     "output_type": "execute_result"
    }
   ],
   "source": [
    "df[['Runtime','Premiere']].groupby(['Premiere']).sum().sort_values('Runtime',ascending=False).head(1)"
   ]
  },
  {
   "cell_type": "markdown",
   "id": "c39b369d",
   "metadata": {},
   "source": [
    "Her bir dilin en fazla kullanıldığı \"Genre\" nedir"
   ]
  },
  {
   "cell_type": "code",
   "execution_count": 135,
   "id": "47bb18da",
   "metadata": {},
   "outputs": [
    {
     "data": {
      "text/html": [
       "<div>\n",
       "<style scoped>\n",
       "    .dataframe tbody tr th:only-of-type {\n",
       "        vertical-align: middle;\n",
       "    }\n",
       "\n",
       "    .dataframe tbody tr th {\n",
       "        vertical-align: top;\n",
       "    }\n",
       "\n",
       "    .dataframe thead th {\n",
       "        text-align: right;\n",
       "    }\n",
       "</style>\n",
       "<table border=\"1\" class=\"dataframe\">\n",
       "  <thead>\n",
       "    <tr style=\"text-align: right;\">\n",
       "      <th></th>\n",
       "      <th></th>\n",
       "      <th>Title</th>\n",
       "      <th>Premiere</th>\n",
       "      <th>Runtime</th>\n",
       "      <th>IMDB Score</th>\n",
       "    </tr>\n",
       "    <tr>\n",
       "      <th>Language</th>\n",
       "      <th>Genre</th>\n",
       "      <th></th>\n",
       "      <th></th>\n",
       "      <th></th>\n",
       "      <th></th>\n",
       "    </tr>\n",
       "  </thead>\n",
       "  <tbody>\n",
       "    <tr>\n",
       "      <th>Bengali</th>\n",
       "      <th>Documentary</th>\n",
       "      <td>1</td>\n",
       "      <td>1</td>\n",
       "      <td>1</td>\n",
       "      <td>1</td>\n",
       "    </tr>\n",
       "    <tr>\n",
       "      <th rowspan=\"3\" valign=\"top\">Dutch</th>\n",
       "      <th>Crime drama</th>\n",
       "      <td>1</td>\n",
       "      <td>1</td>\n",
       "      <td>1</td>\n",
       "      <td>1</td>\n",
       "    </tr>\n",
       "    <tr>\n",
       "      <th>Fantasy</th>\n",
       "      <td>1</td>\n",
       "      <td>1</td>\n",
       "      <td>1</td>\n",
       "      <td>1</td>\n",
       "    </tr>\n",
       "    <tr>\n",
       "      <th>Romantic comedy</th>\n",
       "      <td>1</td>\n",
       "      <td>1</td>\n",
       "      <td>1</td>\n",
       "      <td>1</td>\n",
       "    </tr>\n",
       "    <tr>\n",
       "      <th>English</th>\n",
       "      <th>Action</th>\n",
       "      <td>4</td>\n",
       "      <td>4</td>\n",
       "      <td>4</td>\n",
       "      <td>4</td>\n",
       "    </tr>\n",
       "    <tr>\n",
       "      <th>...</th>\n",
       "      <th>...</th>\n",
       "      <td>...</td>\n",
       "      <td>...</td>\n",
       "      <td>...</td>\n",
       "      <td>...</td>\n",
       "    </tr>\n",
       "    <tr>\n",
       "      <th>Thai</th>\n",
       "      <th>Horror</th>\n",
       "      <td>1</td>\n",
       "      <td>1</td>\n",
       "      <td>1</td>\n",
       "      <td>1</td>\n",
       "    </tr>\n",
       "    <tr>\n",
       "      <th>Thia/English</th>\n",
       "      <th>Documentary</th>\n",
       "      <td>1</td>\n",
       "      <td>1</td>\n",
       "      <td>1</td>\n",
       "      <td>1</td>\n",
       "    </tr>\n",
       "    <tr>\n",
       "      <th rowspan=\"3\" valign=\"top\">Turkish</th>\n",
       "      <th>Comedy</th>\n",
       "      <td>2</td>\n",
       "      <td>2</td>\n",
       "      <td>2</td>\n",
       "      <td>2</td>\n",
       "    </tr>\n",
       "    <tr>\n",
       "      <th>Drama</th>\n",
       "      <td>2</td>\n",
       "      <td>2</td>\n",
       "      <td>2</td>\n",
       "      <td>2</td>\n",
       "    </tr>\n",
       "    <tr>\n",
       "      <th>Romance</th>\n",
       "      <td>1</td>\n",
       "      <td>1</td>\n",
       "      <td>1</td>\n",
       "      <td>1</td>\n",
       "    </tr>\n",
       "  </tbody>\n",
       "</table>\n",
       "<p>204 rows × 4 columns</p>\n",
       "</div>"
      ],
      "text/plain": [
       "                              Title  Premiere  Runtime  IMDB Score\n",
       "Language     Genre                                                \n",
       "Bengali      Documentary          1         1        1           1\n",
       "Dutch        Crime drama          1         1        1           1\n",
       "             Fantasy              1         1        1           1\n",
       "             Romantic comedy      1         1        1           1\n",
       "English      Action               4         4        4           4\n",
       "...                             ...       ...      ...         ...\n",
       "Thai         Horror               1         1        1           1\n",
       "Thia/English Documentary          1         1        1           1\n",
       "Turkish      Comedy               2         2        2           2\n",
       "             Drama                2         2        2           2\n",
       "             Romance              1         1        1           1\n",
       "\n",
       "[204 rows x 4 columns]"
      ]
     },
     "execution_count": 135,
     "metadata": {},
     "output_type": "execute_result"
    }
   ],
   "source": [
    "df.groupby(['Language','Genre']).count()"
   ]
  }
 ],
 "metadata": {
  "kernelspec": {
   "display_name": "Python 3 (ipykernel)",
   "language": "python",
   "name": "python3"
  },
  "language_info": {
   "codemirror_mode": {
    "name": "ipython",
    "version": 3
   },
   "file_extension": ".py",
   "mimetype": "text/x-python",
   "name": "python",
   "nbconvert_exporter": "python",
   "pygments_lexer": "ipython3",
   "version": "3.9.7"
  }
 },
 "nbformat": 4,
 "nbformat_minor": 5
}
